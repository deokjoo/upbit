{
 "cells": [
  {
   "cell_type": "markdown",
   "metadata": {},
   "source": [
    "### 03 BOOK\n",
    "- ADR 을 구해본다.\n",
    "  (주식투자 궁금중 300문 300답을 260 Page)\n"
   ]
  },
  {
   "cell_type": "markdown",
   "metadata": {},
   "source": [
    "#### 1. 데이터 로드를 한다.\n",
    "- DF를 어떻게 잘 만들어 본다."
   ]
  },
  {
   "cell_type": "code",
   "execution_count": 51,
   "metadata": {},
   "outputs": [],
   "source": [
    "import pandas as pd\n",
    "import pyupbit\n",
    "import time\n",
    "import numpy as np\n",
    "import seaborn as sns\n",
    "import matplotlib.pyplot as plt\n",
    "from time import sleep\n",
    "\n",
    "#load data\n",
    "def load_prev_price(tickers, nr):\n",
    "    data = {}\n",
    "    \n",
    "    for coin in tickers:\n",
    "        sleep(0.1)\n",
    "        \n",
    "        ohlcv = pyupbit.get_ohlcv(coin, count=nr)\n",
    "        if ohlcv is not None:\n",
    "            data[coin] = ohlcv\n",
    "        else:\n",
    "            print(coin)\n",
    "        \n",
    "    return data"
   ]
  },
  {
   "cell_type": "code",
   "execution_count": 261,
   "metadata": {},
   "outputs": [
    {
     "data": {
      "text/html": [
       "<div>\n",
       "<style scoped>\n",
       "    .dataframe tbody tr th:only-of-type {\n",
       "        vertical-align: middle;\n",
       "    }\n",
       "\n",
       "    .dataframe tbody tr th {\n",
       "        vertical-align: top;\n",
       "    }\n",
       "\n",
       "    .dataframe thead th {\n",
       "        text-align: right;\n",
       "    }\n",
       "</style>\n",
       "<table border=\"1\" class=\"dataframe\">\n",
       "  <thead>\n",
       "    <tr style=\"text-align: right;\">\n",
       "      <th></th>\n",
       "      <th>open</th>\n",
       "      <th>high</th>\n",
       "      <th>low</th>\n",
       "      <th>close</th>\n",
       "      <th>volume</th>\n",
       "    </tr>\n",
       "  </thead>\n",
       "  <tbody>\n",
       "    <tr>\n",
       "      <th>2021-04-30 09:00:00</th>\n",
       "      <td>2645.0</td>\n",
       "      <td>2675.0</td>\n",
       "      <td>2530.0</td>\n",
       "      <td>2660.0</td>\n",
       "      <td>2.889273e+06</td>\n",
       "    </tr>\n",
       "    <tr>\n",
       "      <th>2021-05-01 09:00:00</th>\n",
       "      <td>2660.0</td>\n",
       "      <td>2740.0</td>\n",
       "      <td>2555.0</td>\n",
       "      <td>2705.0</td>\n",
       "      <td>2.232833e+06</td>\n",
       "    </tr>\n",
       "    <tr>\n",
       "      <th>2021-05-02 09:00:00</th>\n",
       "      <td>2710.0</td>\n",
       "      <td>2715.0</td>\n",
       "      <td>2540.0</td>\n",
       "      <td>2620.0</td>\n",
       "      <td>2.480629e+06</td>\n",
       "    </tr>\n",
       "    <tr>\n",
       "      <th>2021-05-03 09:00:00</th>\n",
       "      <td>2625.0</td>\n",
       "      <td>2680.0</td>\n",
       "      <td>2600.0</td>\n",
       "      <td>2645.0</td>\n",
       "      <td>2.655379e+06</td>\n",
       "    </tr>\n",
       "    <tr>\n",
       "      <th>2021-05-04 09:00:00</th>\n",
       "      <td>2645.0</td>\n",
       "      <td>2645.0</td>\n",
       "      <td>2470.0</td>\n",
       "      <td>2505.0</td>\n",
       "      <td>1.495531e+06</td>\n",
       "    </tr>\n",
       "  </tbody>\n",
       "</table>\n",
       "</div>"
      ],
      "text/plain": [
       "                       open    high     low   close        volume\n",
       "2021-04-30 09:00:00  2645.0  2675.0  2530.0  2660.0  2.889273e+06\n",
       "2021-05-01 09:00:00  2660.0  2740.0  2555.0  2705.0  2.232833e+06\n",
       "2021-05-02 09:00:00  2710.0  2715.0  2540.0  2620.0  2.480629e+06\n",
       "2021-05-03 09:00:00  2625.0  2680.0  2600.0  2645.0  2.655379e+06\n",
       "2021-05-04 09:00:00  2645.0  2645.0  2470.0  2505.0  1.495531e+06"
      ]
     },
     "execution_count": 261,
     "metadata": {},
     "output_type": "execute_result"
    }
   ],
   "source": [
    "period = 40\n",
    "tickers = pyupbit.get_tickers(fiat=\"KRW\")\n",
    "data    = load_prev_price(tickers, period)\n",
    "\n",
    "data[\"KRW-IOTA\"].tail()"
   ]
  },
  {
   "cell_type": "markdown",
   "metadata": {},
   "source": [
    "#### 2. DATA를 가공합니다.\n",
    "- (CLOSE - OPEN)을 계산합니다"
   ]
  },
  {
   "cell_type": "code",
   "execution_count": 259,
   "metadata": {},
   "outputs": [],
   "source": [
    "price_change ={}\n",
    "\n",
    "for ticker in data:\n",
    "    price_change[ticker] = data[ticker][\"close\"] - data[ticker][\"open\"]\n",
    "    \n",
    "df = pd.DataFrame.from_dict(price_change, orient='index')"
   ]
  },
  {
   "cell_type": "markdown",
   "metadata": {},
   "source": [
    "#### 2.1 ADR을 계산합니다\n",
    "- MAX을 300으로 설정함"
   ]
  },
  {
   "cell_type": "code",
   "execution_count": 265,
   "metadata": {},
   "outputs": [],
   "source": [
    "adr = {}\n",
    "\n",
    "for date in df.columns:\n",
    "    con =  df[date] > 0\n",
    "    adv =  df[date][con].count()\n",
    "    con =  df[date] < 0\n",
    "    dec =  df[date][con].count()\n",
    "    \n",
    "    adr[date] = min(adv* 100 /max(dec, 1), 300)\n",
    "#     adr[date] = adv* 100 /max(dec, 1)\n",
    "    \n",
    "adr = pd.DataFrame.from_dict(adr, orient='index')  "
   ]
  },
  {
   "cell_type": "markdown",
   "metadata": {},
   "source": [
    "- HISTOGRAM"
   ]
  },
  {
   "cell_type": "code",
   "execution_count": 266,
   "metadata": {
    "scrolled": true
   },
   "outputs": [
    {
     "data": {
      "image/png": "[encoded data removed]",
      "text/plain": [
       "<Figure size 432x288 with 1 Axes>"
      ]
     },
     "metadata": {
      "needs_background": "light"
     },
     "output_type": "display_data"
    }
   ],
   "source": [
    "plt.hist(adr[0].values, bins=100, density=True, alpha=0.7, histtype='step')\n",
    "plt.show()"
   ]
  },
  {
   "cell_type": "markdown",
   "metadata": {},
   "source": [
    "- PLOT"
   ]
  },
  {
   "cell_type": "code",
   "execution_count": 236,
   "metadata": {},
   "outputs": [
    {
     "name": "stdout",
     "output_type": "stream",
     "text": [
      "0.425\n",
      "0.425\n"
     ]
    },
    {
     "data": {
      "image/png": "[encoded data removed]",
      "text/plain": [
       "<Figure size 432x288 with 1 Axes>"
      ]
     },
     "metadata": {
      "needs_background": "light"
     },
     "output_type": "display_data"
    }
   ],
   "source": [
    "con0 =  adr[0] > 150\n",
    "cnt0 = adr[0][con0].count()\n",
    "print(cnt0/period)\n",
    "\n",
    "con0 =  adr[0] < 75\n",
    "cnt0 = adr[0][con0].count()\n",
    "print(cnt0/period)\n",
    "\n",
    "adr_mean = adr.rolling(1, min_periods=1).mean()\n",
    "plt.plot(adr_mean, \"bo-\")\n",
    "plt.grid()\n",
    "plt.xticks(rotation=90)\n",
    "plt.ylim(0,300)\n",
    "plt.show()\n"
   ]
  },
  {
   "cell_type": "markdown",
   "metadata": {},
   "source": [
    "IOTA"
   ]
  },
  {
   "cell_type": "code",
   "execution_count": 213,
   "metadata": {},
   "outputs": [
    {
     "name": "stdout",
     "output_type": "stream",
     "text": [
      "0.45 0.8888888888888888\n"
     ]
    }
   ],
   "source": [
    "con0 =  adr[0] >125\n",
    "cnt0 = adr[0][con0].count()\n",
    "\n",
    "con1 = (data[\"KRW-IOTA\"][\"close\"] - data[\"KRW-IOTA\"][\"open\"]) > 0\n",
    "con2 = con0 &con1\n",
    "\n",
    "cnt1 = data[\"KRW-IOTA\"][\"close\"][con2].count()\n",
    "print(cnt0/period, cnt1/cnt0)"
   ]
  },
  {
   "cell_type": "code",
   "execution_count": null,
   "metadata": {},
   "outputs": [],
   "source": []
  }
 ],
 "metadata": {
  "kernelspec": {
   "display_name": "Python 3.8.5 64-bit ('base': conda)",
   "language": "python",
   "name": "python385jvsc74a57bd0cc0e6750b21868102594730397f44712800769d06f14b39660796852c7f342f4"
  },
  "language_info": {
   "codemirror_mode": {
    "name": "ipython",
    "version": 3
   },
   "file_extension": ".py",
   "mimetype": "text/x-python",
   "name": "python",
   "nbconvert_exporter": "python",
   "pygments_lexer": "ipython3",
   "version": "3.8.5"
  }
 },
 "nbformat": 4,
 "nbformat_minor": 4
}

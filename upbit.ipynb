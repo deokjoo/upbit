{
 "cells": [
  {
   "cell_type": "markdown",
   "metadata": {},
   "source": [
    "TODO (https://wikidocs.net/31063)\n",
    "- orderbook에 유용한 데이터가 있을까 ?\n",
    "\n",
    "\n"
   ]
  },
  {
   "cell_type": "code",
   "execution_count": 1,
   "metadata": {},
   "outputs": [],
   "source": [
    "import pyupbit\n",
    "import time\n",
    "import numpy as np\n",
    " \n",
    "tickers = pyupbit.get_tickers()\n",
    "\n",
    "coin_sym = \"KRW-IOTA\"\n"
   ]
  },
  {
   "cell_type": "markdown",
   "metadata": {},
   "source": [
    "코인 SYMBOL을 아래와 같이 얻어 온다"
   ]
  },
  {
   "cell_type": "code",
   "execution_count": 2,
   "metadata": {
    "scrolled": true
   },
   "outputs": [
    {
     "name": "stdout",
     "output_type": "stream",
     "text": [
      "2590.0\n"
     ]
    }
   ],
   "source": [
    "price = pyupbit.get_current_price(coin_sym)\n",
    "print(price)\n",
    "\n",
    "# df = pyupbit.get_ohlcv(coin_sym)\n",
    "\n",
    "# print(df)\n"
   ]
  },
  {
   "cell_type": "markdown",
   "metadata": {},
   "source": [
    "orderbook을 기준으로 정보를 뽑아내고 싶다.."
   ]
  },
  {
   "cell_type": "code",
   "execution_count": 3,
   "metadata": {},
   "outputs": [],
   "source": [
    "orderbook = pyupbit.get_orderbook(coin_sym)"
   ]
  },
  {
   "cell_type": "markdown",
   "metadata": {},
   "source": [
    "1. draw function\n",
    "2. load function"
   ]
  },
  {
   "cell_type": "code",
   "execution_count": 4,
   "metadata": {},
   "outputs": [],
   "source": [
    "def cal_com(x, m):\n",
    "    com = np.sum(x*m)/np.sum(m)\n",
    "    \n",
    "    return com"
   ]
  },
  {
   "cell_type": "code",
   "execution_count": 5,
   "metadata": {},
   "outputs": [],
   "source": [
    "import matplotlib\n",
    "import matplotlib.pyplot as plt\n",
    "\n",
    "def aux_info(info):\n",
    "    # \n",
    "    com_bid = cal_com(info[:,0], info[:,2])\n",
    "    mas_bid = np.sum(info[:,2])\n",
    "    com_ask = cal_com(info[:,1], info[:,3])\n",
    "    mas_ask = np.sum(info[:,3])\n",
    "    plt.axvline(x=com_bid)    \n",
    "    plt.axvline(x=com_ask)\n",
    "    \n",
    "    print(com_bid, com_ask, com_bid-com_ask, mas_ask, mas_bid, mas_ask/mas_bid)    \n",
    "\n",
    "#plot infor\n",
    "def draw_orderbook(info):\n",
    "        \n",
    "    fig, ax = plt.subplots()\n",
    "    ax.plot(info[:,0], info[:,2])\n",
    "    ax.plot(info[:,1], info[:,3])\n",
    "    \n",
    "    aux_info(info)\n",
    "    #\n",
    "    tm = time.localtime(orderbook[0][\"timestamp\"]/1000)\n",
    "    string = time.strftime('%Y-%m-%d %I:%M:%S %p', tm)\n",
    "\n",
    "    ax.set(xlabel='current (krw)', ylabel='volume (iota)',title=string)\n",
    "    ax.grid()"
   ]
  },
  {
   "cell_type": "code",
   "execution_count": 6,
   "metadata": {},
   "outputs": [],
   "source": [
    "def load_orderbook(coin):\n",
    "    orderbook = pyupbit.get_orderbook(coin_sym)\n",
    "    tm = time.localtime(orderbook[0][\"timestamp\"]/1000)\n",
    "    \n",
    "    info = []\n",
    "    \n",
    "    for item in orderbook[0][\"orderbook_units\"]:\n",
    "        info.append(list(item.values()))\n",
    "        \n",
    "    info = np.array(info)\n",
    "    \n",
    "    return tm, info"
   ]
  },
  {
   "cell_type": "code",
   "execution_count": 9,
   "metadata": {
    "scrolled": true
   },
   "outputs": [
    {
     "name": "stdout",
     "output_type": "stream",
     "text": [
      "2638.880586100219 2542.825034391887 96.05555170833168 177406.63739462 50177.50793322 3.535580874815985\n"
     ]
    },
    {
     "data": {
      "image/png": "[encoded data removed]",
      "text/plain": [
       "<Figure size 432x288 with 1 Axes>"
      ]
     },
     "metadata": {
      "needs_background": "light"
     },
     "output_type": "display_data"
    },
    {
     "name": "stdout",
     "output_type": "stream",
     "text": [
      "2590.0\n"
     ]
    }
   ],
   "source": [
    "# coin_sym = \"KRW-BTC\"\n",
    "\n",
    "for i in range(0, 1):\n",
    "    price = pyupbit.get_current_price(coin_sym)  \n",
    "    tm, info = load_orderbook(coin_sym)\n",
    "    \n",
    "    #plot infor\n",
    "    draw_orderbook(info)\n",
    "    plt.show()\n",
    "    \n",
    "    #\n",
    "    print(price)"
   ]
  }
 ],
 "metadata": {
  "kernelspec": {
   "display_name": "Python 3",
   "language": "python",
   "name": "python3"
  },
  "language_info": {
   "codemirror_mode": {
    "name": "ipython",
    "version": 3
   },
   "file_extension": ".py",
   "mimetype": "text/x-python",
   "name": "python",
   "nbconvert_exporter": "python",
   "pygments_lexer": "ipython3",
   "version": "3.8.5"
  }
 },
 "nbformat": 4,
 "nbformat_minor": 4
}
